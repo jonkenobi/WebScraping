{
 "cells": [
  {
   "cell_type": "code",
   "execution_count": 1,
   "id": "d9719444-7f66-465e-9453-75c113f02f28",
   "metadata": {},
   "outputs": [],
   "source": [
    "#Import packages \n",
    "import time\n",
    "import re\n",
    "import string \n",
    "\n",
    "from selenium import webdriver\n",
    "from selenium.webdriver.common.by import By\n",
    "from selenium.webdriver.support.ui import WebDriverWait\n",
    "from selenium.webdriver.support.expected_conditions import presence_of_element_located\n",
    "\n",
    "from openpyxl import Workbook, load_workbook\n",
    "from openpyxl.utils import get_column_letter"
   ]
  },
  {
   "cell_type": "code",
   "execution_count": 2,
   "id": "5c89dad6-4b08-4507-a03a-1c6f4ab4e711",
   "metadata": {},
   "outputs": [],
   "source": [
    "#Load workbook data\n",
    "wb = load_workbook(filename = 'input.xlsx')\n",
    "sheet = wb.active"
   ]
  },
  {
   "cell_type": "code",
   "execution_count": 3,
   "id": "9e63ce2c-804e-4b61-b34c-f0fa459b7227",
   "metadata": {},
   "outputs": [],
   "source": [
    "#Prepare destinations\n",
    "destinations = []\n",
    "for cell in ['C1','D1','E1']:\n",
    "    destinations.append(sheet[cell].value)"
   ]
  },
  {
   "cell_type": "code",
   "execution_count": 4,
   "id": "9bda7af9-0c6e-4f96-8641-a9ae7661afe3",
   "metadata": {},
   "outputs": [],
   "source": [
    "def scrape_distance(driver):\n",
    "    wait.until(presence_of_element_located((By.CSS_SELECTOR, \"#pane > div > div.widget-pane-content.cYB2Ge-oHo7ed > div > div > div.section-layout\")))\n",
    "    distances = driver.find_elements_by_class_name('section-directions-trip-distance')\n",
    "    distance = re.sub(\"[^0-9.]\", \"\", distances[0].text) #Take first distance\n",
    "    return distance"
   ]
  },
  {
   "cell_type": "code",
   "execution_count": 5,
   "id": "afd9a937-af25-45fa-9fd8-83c81fb49574",
   "metadata": {
    "tags": []
   },
   "outputs": [
    {
     "name": "stdout",
     "output_type": "stream",
     "text": [
      "Total time spent is  42.36920785903931 secs\n"
     ]
    }
   ],
   "source": [
    "#Start web scraping\n",
    "with webdriver.Chrome() as driver:\n",
    "    wait = WebDriverWait(driver, 10)\n",
    "    startTime = time.time()\n",
    "    \n",
    "    row = 2  #starting from row 2 in excel\n",
    "    origin_zipcode = \"\"\n",
    "    NUMBER_OF_DESTINATION_COLUMNS = 3\n",
    "    \n",
    "    while row < 501:\n",
    "        origin_zipcode = sheet['B'+ str(row)].value\n",
    "        if origin_zipcode != None:\n",
    "            for i in range(NUMBER_OF_DESTINATION_COLUMNS): \n",
    "                driver.get(f\"https://www.google.com/maps/dir/Japan,+〒{origin_zipcode}/{destinations[i]}\")\n",
    "                walking_button = driver.find_elements_by_xpath('//*[@id=\"omnibox-directions\"]/div/div[2]/div/div/div[1]/div[4]/button')[0]\n",
    "                walking_button.click() ## Click the walking btn \n",
    "                sheet[string.ascii_uppercase[i+2]+ str(row)] = scrape_distance(driver)\n",
    "        else:\n",
    "            break\n",
    "        sheet['F'+ str(row)] = \"https://www.google.com/maps/place/〒\"+ origin_zipcode\n",
    "        row+=1    \n",
    "\n",
    "    wb.save(\"./output.xlsx\")\n",
    "    print(\"Total time spent is \",time.time()-startTime, \"secs\")"
   ]
  }
 ],
 "metadata": {
  "kernelspec": {
   "display_name": "Python 3",
   "language": "python",
   "name": "python3"
  },
  "language_info": {
   "codemirror_mode": {
    "name": "ipython",
    "version": 3
   },
   "file_extension": ".py",
   "mimetype": "text/x-python",
   "name": "python",
   "nbconvert_exporter": "python",
   "pygments_lexer": "ipython3",
   "version": "3.9.5"
  }
 },
 "nbformat": 4,
 "nbformat_minor": 5
}
