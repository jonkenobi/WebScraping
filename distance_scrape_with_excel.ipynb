{
 "cells": [
  {
   "cell_type": "code",
   "execution_count": 1,
   "id": "d9719444-7f66-465e-9453-75c113f02f28",
   "metadata": {},
   "outputs": [],
   "source": [
    "#Import packages \n",
    "import time\n",
    "\n",
    "from selenium import webdriver\n",
    "from selenium.webdriver.common.by import By\n",
    "from selenium.webdriver.support.ui import WebDriverWait\n",
    "from selenium.webdriver.support.expected_conditions import presence_of_element_located\n",
    "\n",
    "from openpyxl import Workbook, load_workbook\n",
    "from openpyxl.utils import get_column_letter"
   ]
  },
  {
   "cell_type": "code",
   "execution_count": 2,
   "id": "5c89dad6-4b08-4507-a03a-1c6f4ab4e711",
   "metadata": {},
   "outputs": [],
   "source": [
    "#Load workbook data\n",
    "wb = load_workbook(filename = 'input.xlsx')\n",
    "sheet = wb.active"
   ]
  },
  {
   "cell_type": "code",
   "execution_count": 3,
   "id": "9e63ce2c-804e-4b61-b34c-f0fa459b7227",
   "metadata": {},
   "outputs": [],
   "source": [
    "# Create array of destinations extracted from the A2-A15 in Excel  \n",
    "destinations = []\n",
    "for cell in list(range(2, 16)):\n",
    "    destinations.append(sheet[f\"A{cell}\"].value)"
   ]
  },
  {
   "cell_type": "code",
   "execution_count": 4,
   "id": "9bda7af9-0c6e-4f96-8641-a9ae7661afe3",
   "metadata": {},
   "outputs": [],
   "source": [
    "# Helper functions \n",
    "\n",
    "def click_train_btn(driver: webdriver.Chrome, wait: WebDriverWait):        \n",
    "    ## Find train btn\n",
    "    wait.until(\n",
    "        presence_of_element_located((By.XPATH, '/html/body/div[2]/div[3]/div[8]/div[3]/div[1]/div[2]/div/div[2]/div/div/div/div[3]/button')))\n",
    "    btn = driver.find_elements_by_xpath('/html/body/div[2]/div[3]/div[8]/div[3]/div[1]/div[2]/div/div[2]/div/div/div/div[3]/button')[0]\n",
    "    ## Click train btn\n",
    "    btn.click()\n",
    "    \n",
    "def scrape_duration(wait: WebDriverWait):\n",
    "    ## Get time duration in 1st suggested trip, by using the XPATH of the 1st time element\n",
    "    d1 = wait.until(\n",
    "        presence_of_element_located((By.XPATH, '//*[@id=\"section-directions-trip-0\"]/div[1]/div/div[1]/div')))\n",
    "\n",
    "    return d1.text"
   ]
  },
  {
   "cell_type": "code",
   "execution_count": 5,
   "id": "afd9a937-af25-45fa-9fd8-83c81fb49574",
   "metadata": {
    "tags": []
   },
   "outputs": [
    {
     "name": "stdout",
     "output_type": "stream",
     "text": [
      "Starting Chrome....\n",
      "https://www.google.com/maps/dir/東京タワー/中目黒駅: 20 min\n",
      "https://www.google.com/maps/dir/東京タワー/渋谷駅: 34 min\n",
      "https://www.google.com/maps/dir/東京タワー/代官山駅: 25 min\n",
      "https://www.google.com/maps/dir/東京タワー/恵比寿駅: 17 min\n",
      "https://www.google.com/maps/dir/東京タワー/麻布十番駅: 17 min\n",
      "https://www.google.com/maps/dir/東京タワー/六本木駅: 11 min\n",
      "https://www.google.com/maps/dir/東京タワー/新宿駅: 25 min\n",
      "https://www.google.com/maps/dir/東京タワー/飯田橋駅: 27 min\n",
      "https://www.google.com/maps/dir/東京タワー/日本橋駅: 20 min\n",
      "https://www.google.com/maps/dir/東京タワー/銀座駅: 16 min\n",
      "https://www.google.com/maps/dir/東京タワー/大手町駅: 16 min\n",
      "https://www.google.com/maps/dir/東京タワー/浅草寺: 34 min\n",
      "https://www.google.com/maps/dir/東京タワー/上野駅: 33 min\n",
      "https://www.google.com/maps/dir/東京タワー/豊洲駅: 27 min\n",
      "https://www.google.com/maps/dir/東京スカイツリー/中目黒駅: 39 min\n",
      "https://www.google.com/maps/dir/東京スカイツリー/渋谷駅: 31 min\n",
      "https://www.google.com/maps/dir/東京スカイツリー/代官山駅: 45 min\n",
      "https://www.google.com/maps/dir/東京スカイツリー/恵比寿駅: 36 min\n",
      "https://www.google.com/maps/dir/東京スカイツリー/麻布十番駅: 27 min\n",
      "https://www.google.com/maps/dir/東京スカイツリー/六本木駅: 30 min\n",
      "https://www.google.com/maps/dir/東京スカイツリー/新宿駅: 31 min\n",
      "https://www.google.com/maps/dir/東京スカイツリー/飯田橋駅: 22 min\n",
      "https://www.google.com/maps/dir/東京スカイツリー/日本橋駅: 12 min\n",
      "https://www.google.com/maps/dir/東京スカイツリー/銀座駅: 20 min\n",
      "https://www.google.com/maps/dir/東京スカイツリー/大手町駅: 14 min\n",
      "https://www.google.com/maps/dir/東京スカイツリー/浅草寺: 8 min\n",
      "https://www.google.com/maps/dir/東京スカイツリー/上野駅: 13 min\n",
      "https://www.google.com/maps/dir/東京スカイツリー/豊洲駅: 34 min\n",
      "Total time spent scraping is  78.99302291870117 secs\n"
     ]
    }
   ],
   "source": [
    "#Start web scraping\n",
    "print(\"Starting Chrome....\")\n",
    "\n",
    "with webdriver.Chrome() as driver:\n",
    "    startTime = time.time()\n",
    "    wait = WebDriverWait(driver, 10)\n",
    "    \n",
    "    col_num = 2  #starting from column B in excel\n",
    "    \n",
    "    while True:\n",
    "        col = get_column_letter(col_num)\n",
    "        origin = sheet[f\"{col}1\"].value # Get origin \n",
    "        if origin != None:\n",
    "            for i in range(len(destinations)): \n",
    "                directions_url = f\"https://www.google.com/maps/dir/{origin}/{destinations[i]}\"\n",
    "                driver.get(directions_url) # Open directions url\n",
    "                \n",
    "                click_train_btn(driver, wait)\n",
    "                time.sleep(0.1) #wait for new trip results after clicking train btn\n",
    "                \n",
    "                duration = scrape_duration(wait)\n",
    "                print(f\"{directions_url}: {duration}\")\n",
    "                \n",
    "                # Write duration into excel\n",
    "                sheet[col + str(i+2)] = duration\n",
    "        else:\n",
    "            break\n",
    "        col_num +=1\n",
    "    print(\"Total time spent scraping is \",time.time()-startTime, \"secs\")\n",
    "    wb.save(\"./output.xlsx\")"
   ]
  }
 ],
 "metadata": {
  "kernelspec": {
   "display_name": "Python 3",
   "language": "python",
   "name": "python3"
  },
  "language_info": {
   "codemirror_mode": {
    "name": "ipython",
    "version": 3
   },
   "file_extension": ".py",
   "mimetype": "text/x-python",
   "name": "python",
   "nbconvert_exporter": "python",
   "pygments_lexer": "ipython3",
   "version": "3.9.5"
  }
 },
 "nbformat": 4,
 "nbformat_minor": 5
}
