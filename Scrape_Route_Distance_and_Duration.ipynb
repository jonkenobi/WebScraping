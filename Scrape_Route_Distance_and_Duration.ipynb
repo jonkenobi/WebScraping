{
 "cells": [
  {
   "cell_type": "code",
   "execution_count": 1,
   "id": "d9719444-7f66-465e-9453-75c113f02f28",
   "metadata": {},
   "outputs": [],
   "source": [
    "#Import packages \n",
    "from selenium import webdriver\n",
    "from selenium.webdriver.support.ui import WebDriverWait\n",
    "import time"
   ]
  },
  {
   "cell_type": "code",
   "execution_count": 2,
   "id": "9e63ce2c-804e-4b61-b34c-f0fa459b7227",
   "metadata": {},
   "outputs": [
    {
     "name": "stdout",
     "output_type": "stream",
     "text": [
      "start_url is https://www.google.com/maps/dir/Japan,+〒169-0074/Urban Net Otemachi\n"
     ]
    }
   ],
   "source": [
    "#Origin and Destination\n",
    "origin_zipcode = \"169-0074\"\n",
    "dest = \"Urban Net Otemachi\"\n",
    "start_url = f\"https://www.google.com/maps/dir/Japan,+〒{origin_zipcode}/{dest}\"\n",
    "\n",
    "print(f\"start_url is {start_url}\")"
   ]
  },
  {
   "cell_type": "code",
   "execution_count": 3,
   "id": "9bda7af9-0c6e-4f96-8641-a9ae7661afe3",
   "metadata": {},
   "outputs": [],
   "source": [
    "def scrape_duration_and_distance(driver):\n",
    "    durations = driver.find_elements_by_class_name('section-directions-trip-duration')\n",
    "    distances = driver.find_elements_by_class_name('section-directions-trip-distance')\n",
    "    for i in range(3):\n",
    "        print(f\"{durations[i].text},{distances[i].text}\")  "
   ]
  },
  {
   "cell_type": "code",
   "execution_count": 4,
   "id": "afd9a937-af25-45fa-9fd8-83c81fb49574",
   "metadata": {},
   "outputs": [
    {
     "name": "stdout",
     "output_type": "stream",
     "text": [
      "Selenium is opening https://www.google.com/maps/dir/Japan,+%E3%80%92169-0074/Urban%20Net%20Otemachi\n",
      "1 小時 41 分,8.0 公里\n",
      "1 小時 41 分,8.0 公里\n",
      "1 小時 43 分,\n",
      "34 分,9.3 公里\n",
      "35 分,8.5 公里\n",
      "37 分,\n"
     ]
    }
   ],
   "source": [
    "with webdriver.Chrome() as driver:\n",
    "#     wait = WebDriverWait(driver, 10)\n",
    "    driver.get(start_url)\n",
    "    print(f\"Selenium is opening {driver.current_url}\")\n",
    "    \n",
    "    ## Simulate clicking the walking btn \n",
    "    walking_button = driver.find_elements_by_xpath('//*[@id=\"omnibox-directions\"]/div/div[2]/div/div/div[1]/div[4]/button')[0]\n",
    "    walking_button.click() \n",
    "    time.sleep(2)  #wait for results to render after click;maybe can improve with WebDriverWait(); \n",
    "    scrape_duration_and_distance(driver)\n",
    "        \n",
    "    ## Simulate clicking the cycling btn \n",
    "    cycling_button = driver.find_elements_by_xpath('//*[@id=\"omnibox-directions\"]/div/div[2]/div/div/div[2]/div[1]/div[1]/button')[0]\n",
    "    cycling_button.click()\n",
    "    time.sleep(2)\n",
    "    scrape_duration_and_distance(driver)\n",
    "    "
   ]
  }
 ],
 "metadata": {
  "kernelspec": {
   "display_name": "Python 3",
   "language": "python",
   "name": "python3"
  },
  "language_info": {
   "codemirror_mode": {
    "name": "ipython",
    "version": 3
   },
   "file_extension": ".py",
   "mimetype": "text/x-python",
   "name": "python",
   "nbconvert_exporter": "python",
   "pygments_lexer": "ipython3",
   "version": "3.9.5"
  }
 },
 "nbformat": 4,
 "nbformat_minor": 5
}
