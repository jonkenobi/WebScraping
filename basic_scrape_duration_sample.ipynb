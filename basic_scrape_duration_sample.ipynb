{
 "cells": [
  {
   "cell_type": "code",
   "execution_count": 16,
   "id": "6fd6ea38",
   "metadata": {},
   "outputs": [],
   "source": [
    "#Import packages \n",
    "from selenium import webdriver\n",
    "from selenium.webdriver.common.by import By\n",
    "from selenium.webdriver.support.ui import WebDriverWait\n",
    "from selenium.webdriver.support.expected_conditions import presence_of_element_located\n",
    "import time"
   ]
  },
  {
   "cell_type": "code",
   "execution_count": 17,
   "id": "0c43cbe7",
   "metadata": {},
   "outputs": [
    {
     "name": "stdout",
     "output_type": "stream",
     "text": [
      "directions_url is https://www.google.com/maps/dir/Vancouver, Oakridge Mall/Stanley Park\n"
     ]
    }
   ],
   "source": [
    "#Designate Starting point and Destination\n",
    "start=\"Vancouver, Oakridge Mall\"\n",
    "dest = \"Stanley Park\"\n",
    "directions_url = f\"https://www.google.com/maps/dir/{start}/{dest}\"\n",
    "print(f\"directions_url is {directions_url}\")"
   ]
  },
  {
   "cell_type": "code",
   "execution_count": 18,
   "id": "a0618e7e",
   "metadata": {},
   "outputs": [
    {
     "name": "stdout",
     "output_type": "stream",
     "text": [
      "Selenium is opening https://www.google.com/maps/dir/Vancouver,%20Oakridge%20Mall/Stanley%20Park\n",
      "28 min/28 min\n"
     ]
    }
   ],
   "source": [
    "def click_train_btn(driver: webdriver.Chrome()):        \n",
    "    ## Find train btn\n",
    "    btn = driver.find_elements_by_xpath('/html/body/div[2]/div[3]/div[8]/div[3]/div[1]/div[2]/div/div[2]/div/div/div/div[3]/button')[0]\n",
    "    ## Click train btn\n",
    "    btn.click()\n",
    "    \n",
    "def scrape_duration(wait: WebDriverWait):\n",
    "     ## Get time duration in 1st and 2nd suggested trip, by using the XPATH of the 1st and 2nd duration time element\n",
    "    d1 = wait.until(presence_of_element_located((By.XPATH, '//*[@id=\"section-directions-trip-0\"]/div[1]/div/div[1]/div')))\n",
    "    d2 = wait.until(presence_of_element_located((By.XPATH, '//*[@id=\"section-directions-trip-1\"]/div[1]/div/div[1]/div')))\n",
    "    \n",
    "    return f\"{d1.text}/{d2.text}\"\n",
    "\n",
    "    \n",
    "with webdriver.Chrome() as driver:\n",
    "    wait = WebDriverWait(driver, 10)\n",
    "    driver.get(directions_url)\n",
    "    print(f\"Selenium is opening {driver.current_url}\")\n",
    "    \n",
    "    click_train_btn(driver)\n",
    "    ## Wait for results to show\n",
    "    time.sleep(0.5)\n",
    "   \n",
    "    duration = scrape_duration(wait)\n",
    "    print(duration)\n",
    "\n",
    "    \n"
   ]
  }
 ],
 "metadata": {
  "kernelspec": {
   "display_name": "Python 3",
   "language": "python",
   "name": "python3"
  },
  "language_info": {
   "codemirror_mode": {
    "name": "ipython",
    "version": 3
   },
   "file_extension": ".py",
   "mimetype": "text/x-python",
   "name": "python",
   "nbconvert_exporter": "python",
   "pygments_lexer": "ipython3",
   "version": "3.9.5"
  }
 },
 "nbformat": 4,
 "nbformat_minor": 5
}
