{
 "cells": [
  {
   "cell_type": "code",
   "execution_count": 1,
   "id": "d9719444-7f66-465e-9453-75c113f02f28",
   "metadata": {},
   "outputs": [],
   "source": [
    "#Import packages \n",
    "from selenium import webdriver\n",
    "from selenium.webdriver.common.by import By\n",
    "from selenium.webdriver.support.ui import WebDriverWait\n",
    "from selenium.webdriver.support.expected_conditions import presence_of_element_located\n",
    "import time"
   ]
  },
  {
   "cell_type": "code",
   "execution_count": 2,
   "id": "9e63ce2c-804e-4b61-b34c-f0fa459b7227",
   "metadata": {},
   "outputs": [
    {
     "name": "stdout",
     "output_type": "stream",
     "text": [
      "start_url is https://www.google.com/maps/dir/Japan,Vancouver, Oakridge Mall/Stanley Park\n"
     ]
    }
   ],
   "source": [
    "#Origin and Destination\n",
    "dest = \"Stanley Park\"\n",
    "HOME=\"Vancouver, Oakridge Mall\"\n",
    "start_url = f\"https://www.google.com/maps/dir/Japan,{HOME}/{dest}\"\n",
    "print(f\"start_url is {start_url}\")"
   ]
  },
  {
   "cell_type": "code",
   "execution_count": 3,
   "id": "9bda7af9-0c6e-4f96-8641-a9ae7661afe3",
   "metadata": {},
   "outputs": [],
   "source": [
    "def scrape_duration(driver,route_type=\"train\"):\n",
    "    wait.until(presence_of_element_located((By.CSS_SELECTOR, \"#pane > div > div.widget-pane-content.cYB2Ge-oHo7ed > div > div > div:nth-child(7)\")))\n",
    "    durations = driver.find_elements_by_class_name('section-directions-trip-duration')\n",
    "    print(f\"{route_type} takes:\")\n",
    "    for i in range(len(durations)):\n",
    "        print(f\"{durations[i].text}\")  \n",
    "        \n",
    "def scrape_duration_and_distance(driver,route_type):\n",
    "    durations = driver.find_elements_by_class_name('section-directions-trip-duration')\n",
    "    distances = driver.find_elements_by_class_name('section-directions-trip-distance')\n",
    "    print(f\"{route_type} takes:\")\n",
    "    for i in range(len(durations)):\n",
    "        print(f\"{durations[i].text},{distances[i].text}\")  "
   ]
  },
  {
   "cell_type": "code",
   "execution_count": 4,
   "id": "afd9a937-af25-45fa-9fd8-83c81fb49574",
   "metadata": {},
   "outputs": [
    {
     "name": "stdout",
     "output_type": "stream",
     "text": [
      "Selenium is opening https://www.google.com/maps/dir/Japan,Vancouver,%20Oakridge%20Mall/Stanley%20Park\n",
      "Train takes:\n",
      "14 分\n",
      "16 分\n",
      "\n",
      "Walking takes:\n",
      "1 小時 39 分,8.0 公里\n",
      "1 小時 37 分,8.1 公里\n",
      "Cycling takes:\n",
      "33 分,9.7 公里\n",
      "39 分,10.4 公里\n",
      "40 分,\n"
     ]
    }
   ],
   "source": [
    "with webdriver.Chrome() as driver:\n",
    "    wait = WebDriverWait(driver, 10)\n",
    "    driver.get(start_url)\n",
    "    print(f\"Selenium is opening {driver.current_url}\")\n",
    "    ## Simulate clicking the train btn \n",
    "    btn = driver.find_elements_by_xpath('/html/body/jsl/div[3]/div[9]/div[3]/div[1]/div[2]/div/div[2]/div/div/div[1]/div[3]/button')[0]\n",
    "    btn.click()\n",
    "    \n",
    "    scrape_duration(driver, \"Train\")\n",
    "    \n",
    "    ## Simulate clicking the walking btn \n",
    "    walking_button = driver.find_elements_by_xpath('//*[@id=\"omnibox-directions\"]/div/div[2]/div/div/div[1]/div[4]/button')[0]\n",
    "    walking_button.click() \n",
    "    time.sleep(2)  #wait for results to render after click;maybe can improve with WebDriverWait(); \n",
    "    scrape_duration_and_distance(driver, \"Walking\")\n",
    "        \n",
    "    ## Simulate clicking the cycling btn \n",
    "    cycling_button = driver.find_elements_by_xpath('//*[@id=\"omnibox-directions\"]/div/div[2]/div/div/div[2]/div[1]/div[1]/button')[0]\n",
    "    cycling_button.click()\n",
    "    time.sleep(2)\n",
    "    scrape_duration_and_distance(driver, \"Cycling\")\n",
    "       \n",
    "    "
   ]
  }
 ],
 "metadata": {
  "kernelspec": {
   "display_name": "Python 3",
   "language": "python",
   "name": "python3"
  },
  "language_info": {
   "codemirror_mode": {
    "name": "ipython",
    "version": 3
   },
   "file_extension": ".py",
   "mimetype": "text/x-python",
   "name": "python",
   "nbconvert_exporter": "python",
   "pygments_lexer": "ipython3",
   "version": "3.9.5"
  }
 },
 "nbformat": 4,
 "nbformat_minor": 5
}
