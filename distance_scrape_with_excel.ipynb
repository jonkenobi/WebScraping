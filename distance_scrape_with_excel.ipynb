{
 "cells": [
  {
   "cell_type": "code",
   "execution_count": 1,
   "id": "d9719444-7f66-465e-9453-75c113f02f28",
   "metadata": {},
   "outputs": [],
   "source": [
    "#Import packages \n",
    "import time\n",
    "import re\n",
    "import string \n",
    "\n",
    "from selenium import webdriver\n",
    "from selenium.webdriver.common.by import By\n",
    "from selenium.webdriver.support.ui import WebDriverWait\n",
    "from selenium.webdriver.support.expected_conditions import presence_of_element_located\n",
    "\n",
    "from openpyxl import Workbook, load_workbook\n",
    "from openpyxl.utils import get_column_letter"
   ]
  },
  {
   "cell_type": "code",
   "execution_count": 2,
   "id": "5c89dad6-4b08-4507-a03a-1c6f4ab4e711",
   "metadata": {},
   "outputs": [],
   "source": [
    "#Load workbook data\n",
    "wb = load_workbook(filename = 'input.xlsx')\n",
    "sheet = wb.active"
   ]
  },
  {
   "cell_type": "code",
   "execution_count": 3,
   "id": "9e63ce2c-804e-4b61-b34c-f0fa459b7227",
   "metadata": {},
   "outputs": [],
   "source": [
    "destinations = []\n",
    "for cell in ['B1', 'C1', 'D1', 'E1']:\n",
    "    destinations.append(sheet[cell].value)"
   ]
  },
  {
   "cell_type": "code",
   "execution_count": 4,
   "id": "9bda7af9-0c6e-4f96-8641-a9ae7661afe3",
   "metadata": {},
   "outputs": [],
   "source": [
    "def click_train_btn(driver: webdriver.Chrome, wait: WebDriverWait):        \n",
    "    ## Find train btn\n",
    "    wait.until(\n",
    "        presence_of_element_located((By.XPATH, '/html/body/div[2]/div[3]/div[8]/div[3]/div[1]/div[2]/div/div[2]/div/div/div/div[3]/button')))\n",
    "    btn = driver.find_elements_by_xpath('/html/body/div[2]/div[3]/div[8]/div[3]/div[1]/div[2]/div/div[2]/div/div/div/div[3]/button')[0]\n",
    "    ## Click train btn\n",
    "    btn.click()\n",
    "    \n",
    "def scrape_duration(wait: WebDriverWait):\n",
    "    ## Get time duration in 1st suggested trip, by using the XPATH of the 1st time element\n",
    "    d1 = wait.until(\n",
    "        presence_of_element_located((By.XPATH, '//*[@id=\"section-directions-trip-0\"]/div[1]/div/div[1]/div')))\n",
    "\n",
    "    return d1.text"
   ]
  },
  {
   "cell_type": "code",
   "execution_count": 5,
   "id": "afd9a937-af25-45fa-9fd8-83c81fb49574",
   "metadata": {
    "tags": []
   },
   "outputs": [
    {
     "name": "stdout",
     "output_type": "stream",
     "text": [
      "Starting Chrome....\n",
      "https://www.google.com/maps/dir/東京都新宿区北新宿2-19-2-302/中目黒駅: 31 min\n",
      "https://www.google.com/maps/dir/東京都新宿区北新宿2-19-2-302/渋谷駅: 24 min\n",
      "https://www.google.com/maps/dir/東京都新宿区北新宿2-19-2-302/代官山駅: 30 min\n",
      "https://www.google.com/maps/dir/東京都新宿区北新宿2-19-2-302/恵比寿駅: 27 min\n",
      "https://www.google.com/maps/dir/十条駅/中目黒駅: 26 min\n",
      "https://www.google.com/maps/dir/十条駅/渋谷駅: 16 min\n",
      "https://www.google.com/maps/dir/十条駅/代官山駅: 27 min\n",
      "https://www.google.com/maps/dir/十条駅/恵比寿駅: 18 min\n"
     ]
    }
   ],
   "source": [
    "#Start web scraping\n",
    "print(\"Starting Chrome....\")\n",
    "with webdriver.Chrome() as driver:\n",
    "    wait = WebDriverWait(driver, 10)\n",
    "    \n",
    "    row = 2  #starting from row 2 in excel\n",
    "    \n",
    "    while row < 501:\n",
    "        origin = sheet['A'+ str(row)].value\n",
    "        if origin != None:\n",
    "            for i in range(len(destinations)): \n",
    "                # Open directions url\n",
    "                directions_url = f\"https://www.google.com/maps/dir/{origin}/{destinations[i]}\"\n",
    "                driver.get(directions_url)\n",
    "                \n",
    "                click_train_btn(driver, wait)\n",
    "                time.sleep(0.1) #wait for new trip results after clicking train btn\n",
    "                \n",
    "                duration = scrape_duration(wait)\n",
    "                print(f\"{directions_url}: {duration}\")\n",
    "                \n",
    "                # Write duration into excel\n",
    "                sheet[string.ascii_uppercase[i+1]+ str(row)] = duration\n",
    "        else:\n",
    "            break\n",
    "        row+=1    \n",
    "\n",
    "    wb.save(\"./output.xlsx\")"
   ]
  }
 ],
 "metadata": {
  "kernelspec": {
   "display_name": "Python 3",
   "language": "python",
   "name": "python3"
  },
  "language_info": {
   "codemirror_mode": {
    "name": "ipython",
    "version": 3
   },
   "file_extension": ".py",
   "mimetype": "text/x-python",
   "name": "python",
   "nbconvert_exporter": "python",
   "pygments_lexer": "ipython3",
   "version": "3.9.5"
  }
 },
 "nbformat": 4,
 "nbformat_minor": 5
}
